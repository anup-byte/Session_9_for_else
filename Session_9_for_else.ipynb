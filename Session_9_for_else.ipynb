{
 "cells": [
  {
   "cell_type": "code",
   "execution_count": 1,
   "id": "8453783d",
   "metadata": {},
   "outputs": [],
   "source": [
    "list2 = [1,2,3,4,5,6,7,8,9,10,11,12,13,14,15]"
   ]
  },
  {
   "cell_type": "code",
   "execution_count": 2,
   "id": "1cb01138",
   "metadata": {},
   "outputs": [
    {
     "name": "stdout",
     "output_type": "stream",
     "text": [
      "odd number\n",
      "2\n",
      "odd number\n",
      "4\n",
      "odd number\n",
      "6\n",
      "odd number\n",
      "8\n",
      "odd number\n",
      "10\n",
      "odd number\n",
      "12\n",
      "odd number\n",
      "14\n",
      "odd number\n"
     ]
    }
   ],
   "source": [
    "for i in list2:\n",
    "    if i % 2 ==0:\n",
    "        print(i)\n",
    "    else:\n",
    "        print('odd number')"
   ]
  },
  {
   "cell_type": "code",
   "execution_count": 3,
   "id": "552fbb3e",
   "metadata": {},
   "outputs": [],
   "source": [
    "# find the product of all numbers present in a list\n",
    "lst = [10,20,30,40,50]"
   ]
  },
  {
   "cell_type": "code",
   "execution_count": 4,
   "id": "f71e3548",
   "metadata": {},
   "outputs": [
    {
     "name": "stdout",
     "output_type": "stream",
     "text": [
      "product  12000000\n"
     ]
    }
   ],
   "source": [
    "lst = [10, 20, 30, 40, 50]\n",
    "product = 1\n",
    "for i in lst:\n",
    "    product = product * i\n",
    "\n",
    "print(\"product \", product)"
   ]
  },
  {
   "cell_type": "code",
   "execution_count": 5,
   "id": "e4a3679a",
   "metadata": {},
   "outputs": [],
   "source": [
    "# for - else"
   ]
  },
  {
   "cell_type": "code",
   "execution_count": 6,
   "id": "1d1c17a9",
   "metadata": {},
   "outputs": [
    {
     "name": "stdout",
     "output_type": "stream",
     "text": [
      "1\n",
      "2\n",
      "3\n",
      "no item left in the list\n"
     ]
    }
   ],
   "source": [
    "number = [1, 2, 3]\n",
    "\n",
    "for item in number:\n",
    "    print(item)\n",
    "    \n",
    "else:\n",
    "    print(\"no item left in the list\")"
   ]
  },
  {
   "cell_type": "code",
   "execution_count": 7,
   "id": "95064ac7",
   "metadata": {},
   "outputs": [],
   "source": [
    "fruits_list = [\"Mango\", \"cherry\", \"Apple\", \"Papaya\", \"Banana\"]"
   ]
  },
  {
   "cell_type": "code",
   "execution_count": 8,
   "id": "72c874da",
   "metadata": {},
   "outputs": [
    {
     "name": "stdout",
     "output_type": "stream",
     "text": [
      "Mango\n",
      "cherry\n",
      "Apple\n",
      "Papaya\n",
      "Banana\n",
      "B\n",
      "a\n",
      "n\n",
      "a\n",
      "n\n",
      "a\n"
     ]
    }
   ],
   "source": [
    "for i in fruits_list:\n",
    "    print(i)\n",
    "for j in i:\n",
    "    print(j)"
   ]
  },
  {
   "cell_type": "code",
   "execution_count": 9,
   "id": "077f06a5",
   "metadata": {},
   "outputs": [
    {
     "name": "stdout",
     "output_type": "stream",
     "text": [
      "Mango\n"
     ]
    },
    {
     "ename": "TypeError",
     "evalue": "'int' object is not iterable",
     "output_type": "error",
     "traceback": [
      "\u001b[0;31m---------------------------------------------------------------------------\u001b[0m",
      "\u001b[0;31mTypeError\u001b[0m                                 Traceback (most recent call last)",
      "Cell \u001b[0;32mIn[9], line 3\u001b[0m\n\u001b[1;32m      1\u001b[0m \u001b[38;5;28;01mfor\u001b[39;00m i \u001b[38;5;129;01min\u001b[39;00m fruits_list:\n\u001b[1;32m      2\u001b[0m     \u001b[38;5;28mprint\u001b[39m(i)\n\u001b[0;32m----> 3\u001b[0m     \u001b[38;5;28;01mfor\u001b[39;00m j \u001b[38;5;129;01min\u001b[39;00m item:\n\u001b[1;32m      4\u001b[0m         \u001b[38;5;28mprint\u001b[39m(j)\n",
      "\u001b[0;31mTypeError\u001b[0m: 'int' object is not iterable"
     ]
    }
   ],
   "source": [
    "for i in fruits_list:\n",
    "    print(i)\n",
    "    for j in item:\n",
    "        print(j)"
   ]
  },
  {
   "cell_type": "code",
   "execution_count": 10,
   "id": "e9ff5015",
   "metadata": {},
   "outputs": [
    {
     "name": "stdout",
     "output_type": "stream",
     "text": [
      "Mango\n",
      "M\n",
      "a\n",
      "n\n",
      "g\n",
      "o\n",
      "cherry\n",
      "c\n",
      "h\n",
      "e\n",
      "r\n",
      "r\n",
      "y\n",
      "Apple\n",
      "A\n",
      "p\n",
      "p\n",
      "l\n",
      "e\n",
      "Papaya\n",
      "P\n",
      "a\n",
      "p\n",
      "a\n",
      "y\n",
      "a\n",
      "Banana\n",
      "B\n",
      "a\n",
      "n\n",
      "a\n",
      "n\n",
      "a\n"
     ]
    }
   ],
   "source": [
    "for i in fruits_list:\n",
    "    print(i)\n",
    "    for j in i:\n",
    "        print(j)"
   ]
  },
  {
   "cell_type": "code",
   "execution_count": 11,
   "id": "ef30823b",
   "metadata": {},
   "outputs": [],
   "source": [
    "# print a prime number from 50 to 100"
   ]
  },
  {
   "cell_type": "code",
   "execution_count": 12,
   "id": "605d628b",
   "metadata": {},
   "outputs": [
    {
     "name": "stdout",
     "output_type": "stream",
     "text": [
      "53\n",
      "59\n",
      "61\n",
      "67\n",
      "71\n",
      "73\n",
      "79\n",
      "83\n",
      "89\n",
      "97\n"
     ]
    }
   ],
   "source": [
    "num1 = 50\n",
    "num2 = 100\n",
    "\n",
    "for num in range(num1, num2+1):\n",
    "    if num > 1:\n",
    "        isDivisible = False\n",
    "        for i in range(2, num):\n",
    "            if num % i == 0:\n",
    "                isDivisible = True\n",
    "        if isDivisible == False:\n",
    "            print(num)"
   ]
  },
  {
   "cell_type": "code",
   "execution_count": 13,
   "id": "6ff62505",
   "metadata": {},
   "outputs": [
    {
     "name": "stdout",
     "output_type": "stream",
     "text": [
      "1\n",
      "2\n",
      "3\n",
      "4\n",
      "5\n"
     ]
    }
   ],
   "source": [
    "tup = (1, 2, 3, 4,5)\n",
    "for t in tup:\n",
    "    print(t)"
   ]
  },
  {
   "cell_type": "code",
   "execution_count": 14,
   "id": "fd5aca5a",
   "metadata": {},
   "outputs": [],
   "source": [
    "list5 = [(2,4), (6,8), (10,12)]"
   ]
  },
  {
   "cell_type": "code",
   "execution_count": 15,
   "id": "ee4e6274",
   "metadata": {},
   "outputs": [
    {
     "name": "stdout",
     "output_type": "stream",
     "text": [
      "(2, 4)\n",
      "(6, 8)\n",
      "(10, 12)\n"
     ]
    }
   ],
   "source": [
    "for tup in list5:\n",
    "    print(tup)"
   ]
  },
  {
   "cell_type": "code",
   "execution_count": 16,
   "id": "7b9f9fc3",
   "metadata": {},
   "outputs": [
    {
     "name": "stdout",
     "output_type": "stream",
     "text": [
      "2\n",
      "6\n",
      "10\n"
     ]
    }
   ],
   "source": [
    "for (t1,t2) in list5:\n",
    "    print(t1)"
   ]
  },
  {
   "cell_type": "code",
   "execution_count": 17,
   "id": "0e840927",
   "metadata": {},
   "outputs": [
    {
     "name": "stdout",
     "output_type": "stream",
     "text": [
      "4\n",
      "8\n",
      "12\n"
     ]
    }
   ],
   "source": [
    "for (t1,t2) in list5:\n",
    "    print(t2)"
   ]
  },
  {
   "cell_type": "code",
   "execution_count": 18,
   "id": "cfd77977",
   "metadata": {},
   "outputs": [],
   "source": [
    "#tuple unpacking"
   ]
  },
  {
   "cell_type": "code",
   "execution_count": null,
   "id": "5453acda",
   "metadata": {},
   "outputs": [],
   "source": []
  }
 ],
 "metadata": {
  "kernelspec": {
   "display_name": "Python 3 (ipykernel)",
   "language": "python",
   "name": "python3"
  },
  "language_info": {
   "codemirror_mode": {
    "name": "ipython",
    "version": 3
   },
   "file_extension": ".py",
   "mimetype": "text/x-python",
   "name": "python",
   "nbconvert_exporter": "python",
   "pygments_lexer": "ipython3",
   "version": "3.11.4"
  }
 },
 "nbformat": 4,
 "nbformat_minor": 5
}
